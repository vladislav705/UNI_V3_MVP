{
 "cells": [
  {
   "cell_type": "markdown",
   "id": "570b1185",
   "metadata": {},
   "source": [
    "## Рассчет рехеджа  \n",
    "Данный файл используется как для рассчета изначального хеджа, так и для рехеджа"
   ]
  },
  {
   "cell_type": "code",
   "execution_count": 25,
   "id": "54b2c27e",
   "metadata": {},
   "outputs": [],
   "source": [
    "# Просто запустить данную ячейку, трогать ничего не нужно\n",
    "from mvp_lib import return_curent_eth"
   ]
  },
  {
   "cell_type": "code",
   "execution_count": 26,
   "id": "6f3f73c8",
   "metadata": {},
   "outputs": [],
   "source": [
    "########## изначальные данные ################\n",
    "start_price0 = 1200    # Цена эфира при вложении средств в пул\n",
    "high_board = 1300      # Наша верхняя граница (которую удалось выбрать в uniswap)\n",
    "low_board = 1100       # Наша нижняя граница (которую удалось выбрать в uniswap)\n",
    "eth_pool = 2.495        # Сколько по факту было вложено ETH в пул\n",
    "usd_pool = 4010        # Сколько по факту было вложено USDT в пул"
   ]
  },
  {
   "cell_type": "code",
   "execution_count": 27,
   "id": "47de387c",
   "metadata": {},
   "outputs": [],
   "source": [
    "########## Данные для хеджа и рехеджа ###############\n",
    "current_price = 1245 # текущая цена эфира\n",
    "current_hedge = 1200 # на какую сумму сейчас открыта позиция в Binance с учетом плечей"
   ]
  },
  {
   "cell_type": "markdown",
   "id": "e3a3f690",
   "metadata": {},
   "source": [
    "### Ячека ниже подскажет, на какую сумму нужно открыть позицию в Binance\n",
    "##### Если перед числом стоит - , значит требуется уменьшить позицию на данную сумму "
   ]
  },
  {
   "cell_type": "code",
   "execution_count": 30,
   "id": "21be39ce",
   "metadata": {},
   "outputs": [
    {
     "name": "stdout",
     "output_type": "stream",
     "text": [
      "Дополнительно нужно захеджировать ETH на сумму 446.7 $\n"
     ]
    }
   ],
   "source": [
    "# Ничего вводить не нужно, данную ячейку нужно просто запустить\n",
    "curent_eth_for_hedge = return_curent_eth(start_price0, current_price, \n",
    "                                         high_board, low_board, eth_pool*start_price0, usd_pool)\n",
    "\n",
    "print('Дополнительно нужно захеджировать ETH на сумму', \n",
    "      round(curent_eth_for_hedge-current_hedge, 1), '$')\n"
   ]
  },
  {
   "cell_type": "code",
   "execution_count": null,
   "id": "e1d1c294",
   "metadata": {},
   "outputs": [],
   "source": []
  },
  {
   "cell_type": "code",
   "execution_count": null,
   "id": "27310b61",
   "metadata": {},
   "outputs": [],
   "source": []
  }
 ],
 "metadata": {
  "kernelspec": {
   "display_name": "Python 3",
   "language": "python",
   "name": "python3"
  },
  "language_info": {
   "codemirror_mode": {
    "name": "ipython",
    "version": 3
   },
   "file_extension": ".py",
   "mimetype": "text/x-python",
   "name": "python",
   "nbconvert_exporter": "python",
   "pygments_lexer": "ipython3",
   "version": "3.8.8"
  }
 },
 "nbformat": 4,
 "nbformat_minor": 5
}
