{
 "cells": [
  {
   "cell_type": "code",
   "execution_count": 2,
   "id": "4ea6359c",
   "metadata": {},
   "outputs": [],
   "source": [
    "from binance.client import Client\n",
    "from mvp_lib import dataset_for_current_pred, bootstrap, make_new_col, calc_ratio, GetHistoricalData\n",
    "client = Client()\n",
    "intervals_in_hour = 12"
   ]
  },
  {
   "cell_type": "markdown",
   "id": "fb0e63aa",
   "metadata": {},
   "source": [
    "### Вводим текущую сумму средств"
   ]
  },
  {
   "cell_type": "code",
   "execution_count": 3,
   "id": "cd5992b8",
   "metadata": {},
   "outputs": [],
   "source": [
    "# требуется ввести сумму средств\n",
    "current_amount = 10000\n",
    "n_forcast = 24 # прогноз на 24 часа вперед"
   ]
  },
  {
   "cell_type": "markdown",
   "id": "155e4981",
   "metadata": {},
   "source": [
    "### Запускаем расчет"
   ]
  },
  {
   "cell_type": "code",
   "execution_count": 8,
   "id": "a43329f8",
   "metadata": {},
   "outputs": [
    {
     "name": "stdout",
     "output_type": "stream",
     "text": [
      "Добавляю относительные изменения\n",
      "\n",
      "Интервал:  1111.8851029939988 1294.6614901798903\n",
      "\n",
      "Распределение средств в долларах\n",
      "Сумма эфира(в usdt) в пул  3529.5326879983018\n",
      "Сумма usdt в пул  2940.9346240033965\n",
      "Покупка фьючерса  3529.5326879983018\n"
     ]
    }
   ],
   "source": [
    "#Получаем данные\n",
    "df_current = dataset_for_current_pred(client, Client)\n",
    "# Добавляем новую колонку\n",
    "df_current = make_new_col(df_current)\n",
    "# требуется для абсолютных значений запомнить текущую\n",
    "current_value = df_current['open'].values.astype(float)[-1]\n",
    "# Рассчитываем сам интервал\n",
    "res_interval = bootstrap(df_current['change'].values, n_forcast=24, intervals_in_hour=60)*current_value\n",
    "# рассчитываем ratio_hedge\n",
    "start_price = current_value\n",
    "high_board = res_interval[0]\n",
    "low_board = res_interval[1]\n",
    "ratio_hedge = calc_ratio(start_price, high_board, low_board)\n",
    "eth_pool = ratio_hedge*current_amount/(1+ratio_hedge)\n",
    "usd_pool = current_amount - 2*eth_pool\n",
    "usd_hedge = eth_pool\n",
    "print()\n",
    "print('Интервал: ', res_interval[1], res_interval[0])\n",
    "print()\n",
    "print('Распределение средств в долларах')\n",
    "print('Сумма эфира(в usdt) в пул ', eth_pool)\n",
    "print('Сумма usdt в пул ', usd_pool)\n",
    "print('Покупка фьючерса ',usd_hedge)\n"
   ]
  },
  {
   "cell_type": "code",
   "execution_count": null,
   "id": "2a25d544",
   "metadata": {},
   "outputs": [],
   "source": []
  }
 ],
 "metadata": {
  "kernelspec": {
   "display_name": "Python 3",
   "language": "python",
   "name": "python3"
  },
  "language_info": {
   "codemirror_mode": {
    "name": "ipython",
    "version": 3
   },
   "file_extension": ".py",
   "mimetype": "text/x-python",
   "name": "python",
   "nbconvert_exporter": "python",
   "pygments_lexer": "ipython3",
   "version": "3.8.8"
  }
 },
 "nbformat": 4,
 "nbformat_minor": 5
}
